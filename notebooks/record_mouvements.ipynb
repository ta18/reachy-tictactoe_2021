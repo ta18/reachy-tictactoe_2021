{
 "cells": [
  {
   "cell_type": "markdown",
   "id": "ca9b2459",
   "metadata": {},
   "source": [
    "## Recorde the different mouvement for tictactoe 2021"
   ]
  },
  {
   "cell_type": "code",
   "execution_count": null,
   "id": "d7e1ce5d",
   "metadata": {},
   "outputs": [],
   "source": [
    "from reachy_sdk import ReachySDK\n",
    "import numpy as np\n",
    "import time \n",
    "from reachy_sdk.trajectory import goto\n",
    "from reachy_sdk.trajectory.interpolation import InterpolationMode"
   ]
  },
  {
   "cell_type": "code",
   "execution_count": null,
   "id": "25f96445",
   "metadata": {},
   "outputs": [],
   "source": [
    "reachy = ReachySDK('localhost')"
   ]
  },
  {
   "cell_type": "markdown",
   "id": "c186bb67",
   "metadata": {},
   "source": [
    "To test the mouvement with your configuration : "
   ]
  },
  {
   "cell_type": "markdown",
   "id": "56ff53ce",
   "metadata": {},
   "source": [
    "For simple mouvement :"
   ]
  },
  {
   "cell_type": "code",
   "execution_count": null,
   "id": "99613125",
   "metadata": {},
   "outputs": [],
   "source": [
    "def goto_position(path): \n",
    "        reachy.turn_on('r_arm')\n",
    "        move = np.load(path)\n",
    "        move.allow_pickle=1\n",
    "    \n",
    "        listMoves = move['move'].tolist()\n",
    "        print(type(list(listMoves.items())[0]))\n",
    "        listTraj = { 'self.'+key:float(val) for key,val in listMoves.items() }\n",
    "        print(listTraj)\n",
    "    \n",
    "        goto(\n",
    "            goal_positions=listTraj, \n",
    "            duration=2.0,\n",
    "            interpolation_mode=InterpolationMode.MINIMUM_JERK\n",
    "        )"
   ]
  },
  {
   "cell_type": "code",
   "execution_count": null,
   "id": "93aec614",
   "metadata": {},
   "outputs": [],
   "source": [
    "grab_index=1\n",
    "path = '/home/reachy/dev/reachy-tictactoe/reachy_tictactoe/moves-2021/shuffle-board.npz'\n",
    "goto_position(path)"
   ]
  },
  {
   "cell_type": "markdown",
   "id": "7a91e868",
   "metadata": {},
   "source": [
    "For complexe trajectories : "
   ]
  },
  {
   "cell_type": "code",
   "execution_count": null,
   "id": "436e38fa",
   "metadata": {},
   "outputs": [],
   "source": [
    "def trajectoryPlayer(path):\n",
    "    reachy.turn_on('r_arm')\n",
    "    move = np.load(path)\n",
    "    move.allow_pickle=1\n",
    "    print(list(move.keys()))\n",
    "\n",
    "    listMoves = move['move'].tolist()\n",
    "    print(listMoves)\n",
    "    listTraj = [ val for key,val in listMoves.items()]\n",
    "    listTraj = np.array(listTraj).T.tolist()\n",
    "\n",
    "    sampling_frequency = 100  #en hertz\n",
    "\n",
    "    recorded_joints = [\n",
    "        reachy.r_arm.r_shoulder_pitch,\n",
    "        reachy.r_arm.r_shoulder_roll,\n",
    "        reachy.r_arm.r_arm_yaw,\n",
    "        reachy.r_arm.r_elbow_pitch,\n",
    "        reachy.r_arm.r_forearm_yaw,\n",
    "        reachy.r_arm.r_wrist_pitch,\n",
    "        reachy.r_arm.r_wrist_roll,\n",
    "        reachy.r_arm.r_gripper, \n",
    "    ]\n",
    "\n",
    "    for joint in recorded_joints:\n",
    "        joint.compliant = False\n",
    "\n",
    "    first_point = dict(zip(recorded_joints, listTraj[0]))\n",
    "    goto(first_point, duration=3.0)\n",
    "\n",
    "    for joints_positions in listTraj:\n",
    "        for joint, pos in zip(recorded_joints, joints_positions):\n",
    "            joint.goal_position = pos\n",
    "        time.sleep(1 / sampling_frequency)"
   ]
  },
  {
   "cell_type": "code",
   "execution_count": null,
   "id": "a4232834",
   "metadata": {},
   "outputs": [],
   "source": [
    "path = '/home/reachy/dev/reachy-tictactoe/reachy_tictactoe/moves-2021/shuffle-board.npz'\n",
    "trajectoryPlayer(path)"
   ]
  },
  {
   "cell_type": "markdown",
   "id": "352a9665",
   "metadata": {},
   "source": [
    "Record a new mouvement : "
   ]
  },
  {
   "cell_type": "code",
   "execution_count": 2,
   "id": "46fb9937",
   "metadata": {},
   "outputs": [
    {
     "ename": "NameError",
     "evalue": "name 'reachy' is not defined",
     "output_type": "error",
     "traceback": [
      "\u001b[0;31m---------------------------------------------------------------------------\u001b[0m",
      "\u001b[0;31mNameError\u001b[0m                                 Traceback (most recent call last)",
      "\u001b[0;32m<ipython-input-2-e8099170f719>\u001b[0m in \u001b[0;36m<module>\u001b[0;34m\u001b[0m\n\u001b[0;32m----> 1\u001b[0;31m \u001b[0mreachy\u001b[0m\u001b[0;34m.\u001b[0m\u001b[0mturn_off\u001b[0m\u001b[0;34m(\u001b[0m\u001b[0;34m'reachy'\u001b[0m\u001b[0;34m)\u001b[0m\u001b[0;34m\u001b[0m\u001b[0;34m\u001b[0m\u001b[0m\n\u001b[0m",
      "\u001b[0;31mNameError\u001b[0m: name 'reachy' is not defined"
     ]
    }
   ],
   "source": [
    "reachy.turn_off('reachy')"
   ]
  },
  {
   "cell_type": "code",
   "execution_count": null,
   "id": "717f0851",
   "metadata": {},
   "outputs": [],
   "source": [
    "trajectories = [] #on créer une nouvelle liste trajectoire\n",
    "\n",
    "start = time.time() #seconde passées depuis epoch\n",
    "while (time.time() - start) < record_duration:\n",
    "    #on optient les positions actuelles de toutes les jointures \n",
    "    current_point = [joint.present_position for joint in recorded_joints]\n",
    "    #on ajoute les positions à la liste trajectoire \n",
    "    trajectories.append(current_point)\n",
    "\n",
    "    time.sleep(1 / sampling_frequency)"
   ]
  },
  {
   "cell_type": "markdown",
   "id": "c7ca8807",
   "metadata": {},
   "source": [
    "Save as a .npz format : "
   ]
  },
  {
   "cell_type": "code",
   "execution_count": null,
   "id": "1a88bd03",
   "metadata": {},
   "outputs": [],
   "source": [
    "np.savez('/home/reachy/dev/reachy-tictactoe/reachy_tictactoe/moves/test',trajectories)"
   ]
  },
  {
   "cell_type": "code",
   "execution_count": null,
   "id": "94fe7630",
   "metadata": {},
   "outputs": [],
   "source": []
  },
  {
   "cell_type": "code",
   "execution_count": null,
   "id": "2ef3e974",
   "metadata": {},
   "outputs": [],
   "source": []
  }
 ],
 "metadata": {
  "kernelspec": {
   "display_name": "Python 3",
   "language": "python",
   "name": "python3"
  },
  "language_info": {
   "codemirror_mode": {
    "name": "ipython",
    "version": 3
   },
   "file_extension": ".py",
   "mimetype": "text/x-python",
   "name": "python",
   "nbconvert_exporter": "python",
   "pygments_lexer": "ipython3",
   "version": "3.8.5"
  }
 },
 "nbformat": 4,
 "nbformat_minor": 5
}
